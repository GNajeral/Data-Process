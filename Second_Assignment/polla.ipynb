{
 "cells": [
  {
   "cell_type": "code",
   "execution_count": 13,
   "metadata": {},
   "outputs": [],
   "source": [
    "import pandas as pd\n",
    "import sklearn"
   ]
  },
  {
   "cell_type": "code",
   "execution_count": 15,
   "metadata": {},
   "outputs": [
    {
     "name": "stdout",
     "output_type": "stream",
     "text": [
      "             Pclass     Sex   Age  SibSp  Parch     Fare Embarked\n",
      "PassengerId                                                      \n",
      "1                 3    male  22.0      1      0   7.2500        S\n",
      "2                 1  female  38.0      1      0  71.2833        C\n",
      "3                 3  female  26.0      0      0   7.9250        S\n",
      "4                 1  female  35.0      1      0  53.1000        S\n",
      "5                 3    male  35.0      0      0   8.0500        S\n",
      "...             ...     ...   ...    ...    ...      ...      ...\n",
      "887               2    male  27.0      0      0  13.0000        S\n",
      "888               1  female  19.0      0      0  30.0000        S\n",
      "889               3  female   NaN      1      2  23.4500        S\n",
      "890               1    male  26.0      0      0  30.0000        C\n",
      "891               3    male  32.0      0      0   7.7500        Q\n",
      "\n",
      "[891 rows x 7 columns]\n"
     ]
    }
   ],
   "source": [
    "df = pd.read_csv('train.csv', index_col='PassengerId')\n",
    "df.pop('Name')\n",
    "df.pop('Ticket')\n",
    "df.pop('Cabin')\n",
    "\n",
    "class_col = df.pop('Survived')\n",
    "\n",
    "print(df)"
   ]
  },
  {
   "cell_type": "code",
   "execution_count": 16,
   "metadata": {},
   "outputs": [
    {
     "name": "stdout",
     "output_type": "stream",
     "text": [
      "Pclass      False\n",
      "Sex         False\n",
      "Age          True\n",
      "SibSp       False\n",
      "Parch       False\n",
      "Fare        False\n",
      "Embarked     True\n",
      "dtype: bool\n"
     ]
    }
   ],
   "source": [
    "print(df.isnull().any())"
   ]
  },
  {
   "cell_type": "code",
   "execution_count": 17,
   "metadata": {},
   "outputs": [],
   "source": [
    "cat_mask = (df.dtypes==object)\n",
    "cat_cols = df.columns[cat_mask].tolist()\n",
    "df_cat = df[cat_cols]\n",
    "df_num = df.drop(cat_cols, axis=1)"
   ]
  },
  {
   "cell_type": "code",
   "execution_count": 18,
   "metadata": {},
   "outputs": [
    {
     "name": "stdout",
     "output_type": "stream",
     "text": [
      "Sex         False\n",
      "Embarked    False\n",
      "dtype: bool\n"
     ]
    }
   ],
   "source": [
    "from sklearn.impute import SimpleImputer\n",
    "\n",
    "imp_cat = SimpleImputer(strategy='most_frequent')\n",
    "columns = df_cat.columns\n",
    "index = df_cat.index\n",
    "df_cat = pd.DataFrame(imp_cat.fit_transform(df_cat), columns=columns, index=index)\n",
    "\n",
    "print(df_cat.isnull().any())"
   ]
  },
  {
   "cell_type": "code",
   "execution_count": 20,
   "metadata": {},
   "outputs": [
    {
     "name": "stdout",
     "output_type": "stream",
     "text": [
      "             Sex  Embarked\n",
      "PassengerId               \n",
      "1              1         2\n",
      "2              0         0\n",
      "3              0         2\n",
      "4              0         2\n",
      "5              1         2\n",
      "...          ...       ...\n",
      "887            1         2\n",
      "888            0         2\n",
      "889            0         2\n",
      "890            1         0\n",
      "891            1         1\n",
      "\n",
      "[891 rows x 2 columns]\n"
     ]
    }
   ],
   "source": [
    "from sklearn import preprocessing\n",
    "from collections import defaultdict\n",
    "\n",
    "d = defaultdict(preprocessing.LabelEncoder)\n",
    "\n",
    "df_cat_le = df_cat.apply(lambda col: d[col.name].fit_transform(col))\n",
    "print(df_cat_le)"
   ]
  },
  {
   "cell_type": "code",
   "execution_count": 21,
   "metadata": {},
   "outputs": [
    {
     "name": "stdout",
     "output_type": "stream",
     "text": [
      "                Sex Embarked\n",
      "PassengerId                 \n",
      "1              male        S\n",
      "2            female        C\n",
      "3            female        S\n",
      "4            female        S\n",
      "5              male        S\n",
      "...             ...      ...\n",
      "887            male        S\n",
      "888          female        S\n",
      "889          female        S\n",
      "890            male        C\n",
      "891            male        Q\n",
      "\n",
      "[891 rows x 2 columns]\n",
      "             Sex  Embarked\n",
      "PassengerId               \n",
      "1              1         2\n",
      "2              0         0\n",
      "3              0         2\n",
      "4              0         2\n",
      "5              1         2\n",
      "...          ...       ...\n",
      "887            1         2\n",
      "888            0         2\n",
      "889            0         2\n",
      "890            1         0\n",
      "891            1         1\n",
      "\n",
      "[891 rows x 2 columns]\n"
     ]
    }
   ],
   "source": [
    "inverse = df_cat_le.apply(lambda col: d[col.name].inverse_transform(col))\n",
    "print(inverse)\n",
    "\n",
    "transformed = inverse.apply(lambda col: d[col.name].transform(col))\n",
    "print(transformed)"
   ]
  },
  {
   "cell_type": "code",
   "execution_count": 23,
   "metadata": {},
   "outputs": [
    {
     "name": "stdout",
     "output_type": "stream",
     "text": [
      "             Sex_female  Sex_male  Embarked_C  Embarked_Q  Embarked_S\n",
      "PassengerId                                                          \n",
      "1                   0.0       1.0         0.0         0.0         1.0\n",
      "2                   1.0       0.0         1.0         0.0         0.0\n",
      "3                   1.0       0.0         0.0         0.0         1.0\n",
      "4                   1.0       0.0         0.0         0.0         1.0\n",
      "5                   0.0       1.0         0.0         0.0         1.0\n",
      "...                 ...       ...         ...         ...         ...\n",
      "887                 0.0       1.0         0.0         0.0         1.0\n",
      "888                 1.0       0.0         0.0         0.0         1.0\n",
      "889                 1.0       0.0         0.0         0.0         1.0\n",
      "890                 0.0       1.0         1.0         0.0         0.0\n",
      "891                 0.0       1.0         0.0         1.0         0.0\n",
      "\n",
      "[891 rows x 5 columns]\n"
     ]
    }
   ],
   "source": [
    "ohe = preprocessing.OneHotEncoder(sparse=False)\n",
    "df_cat_ohe = pd.DataFrame(ohe.fit_transform(df_cat), \n",
    "    columns=ohe.get_feature_names_out(df_cat.columns.tolist()), index=df_cat.index)\n",
    "\n",
    "print(df_cat_ohe)"
   ]
  },
  {
   "cell_type": "code",
   "execution_count": 24,
   "metadata": {},
   "outputs": [
    {
     "name": "stdout",
     "output_type": "stream",
     "text": [
      "Pclass    False\n",
      "Age       False\n",
      "SibSp     False\n",
      "Parch     False\n",
      "Fare      False\n",
      "dtype: bool\n"
     ]
    }
   ],
   "source": [
    "imp_num = SimpleImputer(strategy='mean')\n",
    "columns = df_num.columns\n",
    "index = df_num.index\n",
    "df_num = pd.DataFrame(imp_num.fit_transform(df_num), columns=columns, index=index)\n",
    "\n",
    "print(df_num.isnull().any())"
   ]
  },
  {
   "cell_type": "code",
   "execution_count": 25,
   "metadata": {},
   "outputs": [
    {
     "name": "stdout",
     "output_type": "stream",
     "text": [
      "             Sex_female  Sex_male  Embarked_C  Embarked_Q  Embarked_S  Pclass  \\\n",
      "PassengerId                                                                     \n",
      "1                   0.0       1.0         0.0         0.0         1.0     3.0   \n",
      "2                   1.0       0.0         1.0         0.0         0.0     1.0   \n",
      "3                   1.0       0.0         0.0         0.0         1.0     3.0   \n",
      "4                   1.0       0.0         0.0         0.0         1.0     1.0   \n",
      "5                   0.0       1.0         0.0         0.0         1.0     3.0   \n",
      "...                 ...       ...         ...         ...         ...     ...   \n",
      "887                 0.0       1.0         0.0         0.0         1.0     2.0   \n",
      "888                 1.0       0.0         0.0         0.0         1.0     1.0   \n",
      "889                 1.0       0.0         0.0         0.0         1.0     3.0   \n",
      "890                 0.0       1.0         1.0         0.0         0.0     1.0   \n",
      "891                 0.0       1.0         0.0         1.0         0.0     3.0   \n",
      "\n",
      "                   Age  SibSp  Parch     Fare  \n",
      "PassengerId                                    \n",
      "1            22.000000    1.0    0.0   7.2500  \n",
      "2            38.000000    1.0    0.0  71.2833  \n",
      "3            26.000000    0.0    0.0   7.9250  \n",
      "4            35.000000    1.0    0.0  53.1000  \n",
      "5            35.000000    0.0    0.0   8.0500  \n",
      "...                ...    ...    ...      ...  \n",
      "887          27.000000    0.0    0.0  13.0000  \n",
      "888          19.000000    0.0    0.0  30.0000  \n",
      "889          29.699118    1.0    2.0  23.4500  \n",
      "890          26.000000    0.0    0.0  30.0000  \n",
      "891          32.000000    0.0    0.0   7.7500  \n",
      "\n",
      "[891 rows x 10 columns]\n"
     ]
    }
   ],
   "source": [
    "df_preprocessed = pd.merge(left=df_cat_ohe, right=df_num, on='PassengerId')\n",
    "print(df_preprocessed)"
   ]
  },
  {
   "cell_type": "code",
   "execution_count": 26,
   "metadata": {},
   "outputs": [
    {
     "name": "stdout",
     "output_type": "stream",
     "text": [
      "             Sex_female  Sex_male  Pclass     Fare\n",
      "PassengerId                                       \n",
      "1                   0.0       1.0     3.0   7.2500\n",
      "2                   1.0       0.0     1.0  71.2833\n",
      "3                   1.0       0.0     3.0   7.9250\n",
      "4                   1.0       0.0     1.0  53.1000\n",
      "5                   0.0       1.0     3.0   8.0500\n",
      "...                 ...       ...     ...      ...\n",
      "887                 0.0       1.0     2.0  13.0000\n",
      "888                 1.0       0.0     1.0  30.0000\n",
      "889                 1.0       0.0     3.0  23.4500\n",
      "890                 0.0       1.0     1.0  30.0000\n",
      "891                 0.0       1.0     3.0   7.7500\n",
      "\n",
      "[891 rows x 4 columns]\n"
     ]
    }
   ],
   "source": [
    "from sklearn.feature_selection import SelectKBest\n",
    "from sklearn.feature_selection import chi2\n",
    "\n",
    "fs_k_best_chi2 = SelectKBest(chi2, k=4)\n",
    "fs_k_best_chi2.fit(df_preprocessed, class_col)\n",
    "col_filter = fs_k_best_chi2.get_support()\n",
    "df_k_best_chi2 = df_preprocessed.iloc[:, col_filter]\n",
    "\n",
    "print(df_k_best_chi2)"
   ]
  }
 ],
 "metadata": {
  "kernelspec": {
   "display_name": "Python 3.10.8 64-bit",
   "language": "python",
   "name": "python3"
  },
  "language_info": {
   "codemirror_mode": {
    "name": "ipython",
    "version": 3
   },
   "file_extension": ".py",
   "mimetype": "text/x-python",
   "name": "python",
   "nbconvert_exporter": "python",
   "pygments_lexer": "ipython3",
   "version": "3.10.8"
  },
  "orig_nbformat": 4,
  "vscode": {
   "interpreter": {
    "hash": "08f2a05ac046e84805368809866a6b709c3cc9ec790929dec02dbab1889d195a"
   }
  }
 },
 "nbformat": 4,
 "nbformat_minor": 2
}
