{
 "cells": [
  {
   "cell_type": "code",
   "execution_count": 23,
   "metadata": {},
   "outputs": [],
   "source": [
    "import pandas as pd\n",
    "from sklearn import preprocessing\n",
    "from collections import defaultdict\n",
    "from sklearn.impute import SimpleImputer"
   ]
  },
  {
   "cell_type": "code",
   "execution_count": 24,
   "metadata": {},
   "outputs": [
    {
     "name": "stdout",
     "output_type": "stream",
     "text": [
      "Unnamed: 0         False\n",
      "side                True\n",
      "neoadjuvant         True\n",
      "grade               True\n",
      "invasive            True\n",
      "er_positive         True\n",
      "pr_positive         True\n",
      "her2_positive       True\n",
      "ki67                True\n",
      "birth_date         False\n",
      "diagnosis_date     False\n",
      "death_date          True\n",
      "recurrence_year     True\n",
      "menarche_age        True\n",
      "menopause_age       True\n",
      "pregnancy           True\n",
      "abort               True\n",
      "birth              False\n",
      "caesarean           True\n",
      "hist_type          False\n",
      "dtype: bool\n"
     ]
    }
   ],
   "source": [
    "df = pd.read_excel('breast_cancer_data.xlsx', index_col='ehr')\n",
    "print(df.isnull().any())"
   ]
  },
  {
   "cell_type": "markdown",
   "metadata": {},
   "source": [
    "We delete the NULL values by using the Simple Imputer"
   ]
  },
  {
   "cell_type": "code",
   "execution_count": 25,
   "metadata": {},
   "outputs": [
    {
     "name": "stdout",
     "output_type": "stream",
     "text": [
      "Unnamed: 0         False\n",
      "side               False\n",
      "neoadjuvant        False\n",
      "grade              False\n",
      "invasive           False\n",
      "er_positive        False\n",
      "pr_positive        False\n",
      "her2_positive      False\n",
      "ki67               False\n",
      "birth_date         False\n",
      "diagnosis_date     False\n",
      "death_date         False\n",
      "recurrence_year    False\n",
      "menarche_age       False\n",
      "menopause_age      False\n",
      "pregnancy          False\n",
      "abort              False\n",
      "birth              False\n",
      "caesarean          False\n",
      "hist_type          False\n",
      "dtype: bool\n"
     ]
    }
   ],
   "source": [
    "imp_cat = SimpleImputer(strategy='most_frequent')\n",
    "columns = df.columns\n",
    "index = df.index\n",
    "df_cat = pd.DataFrame(imp_cat.fit_transform(df), columns=columns, index=index)\n",
    "\n",
    "print(df_cat.isnull().any())"
   ]
  },
  {
   "cell_type": "markdown",
   "metadata": {},
   "source": [
    "Now we are going to eliminate the labels that do not give relevant information but would increase the computational cost of our data treatments.\n",
    "e.g: Columns with too many different values, such as descriptions or names."
   ]
  },
  {
   "cell_type": "code",
   "execution_count": null,
   "metadata": {},
   "outputs": [],
   "source": []
  },
  {
   "cell_type": "markdown",
   "metadata": {},
   "source": [
    "Now we are about to subsitute the categorical labels that are represented by strings with numerical values, in order to avoid working with Strings."
   ]
  },
  {
   "cell_type": "code",
   "execution_count": 27,
   "metadata": {},
   "outputs": [
    {
     "name": "stdout",
     "output_type": "stream",
     "text": [
      "      Unnamed: 0_AA  Unnamed: 0_AB  Unnamed: 0_AC  Unnamed: 0_AD  \\\n",
      "ehr                                                                \n",
      "6849            1.0            0.0            0.0            0.0   \n",
      "268             0.0            1.0            0.0            0.0   \n",
      "1458            0.0            0.0            1.0            0.0   \n",
      "268             0.0            0.0            0.0            1.0   \n",
      "2013            0.0            0.0            0.0            0.0   \n",
      "...             ...            ...            ...            ...   \n",
      "191             0.0            0.0            0.0            0.0   \n",
      "6482            0.0            0.0            0.0            0.0   \n",
      "2564            0.0            0.0            0.0            0.0   \n",
      "2730            0.0            0.0            0.0            0.0   \n",
      "2376            0.0            0.0            0.0            0.0   \n",
      "\n",
      "      Unnamed: 0_AE  Unnamed: 0_AF  Unnamed: 0_AG  Unnamed: 0_AH  \\\n",
      "ehr                                                                \n",
      "6849            0.0            0.0            0.0            0.0   \n",
      "268             0.0            0.0            0.0            0.0   \n",
      "1458            0.0            0.0            0.0            0.0   \n",
      "268             0.0            0.0            0.0            0.0   \n",
      "2013            1.0            0.0            0.0            0.0   \n",
      "...             ...            ...            ...            ...   \n",
      "191             0.0            0.0            0.0            0.0   \n",
      "6482            0.0            0.0            0.0            0.0   \n",
      "2564            0.0            0.0            0.0            0.0   \n",
      "2730            0.0            0.0            0.0            0.0   \n",
      "2376            0.0            0.0            0.0            0.0   \n",
      "\n",
      "      Unnamed: 0_AI  Unnamed: 0_AJ  ...  birth_3  birth_4  birth_5  birth_6  \\\n",
      "ehr                                 ...                                       \n",
      "6849            0.0            0.0  ...      0.0      0.0      0.0      0.0   \n",
      "268             0.0            0.0  ...      0.0      0.0      0.0      0.0   \n",
      "1458            0.0            0.0  ...      0.0      0.0      0.0      0.0   \n",
      "268             0.0            0.0  ...      0.0      0.0      0.0      0.0   \n",
      "2013            0.0            0.0  ...      0.0      0.0      0.0      0.0   \n",
      "...             ...            ...  ...      ...      ...      ...      ...   \n",
      "191             0.0            0.0  ...      0.0      0.0      0.0      0.0   \n",
      "6482            0.0            0.0  ...      0.0      0.0      0.0      0.0   \n",
      "2564            0.0            0.0  ...      0.0      0.0      0.0      0.0   \n",
      "2730            0.0            0.0  ...      0.0      0.0      0.0      0.0   \n",
      "2376            0.0            0.0  ...      0.0      0.0      0.0      0.0   \n",
      "\n",
      "      caesarean_0.0  caesarean_1.0  caesarean_2.0  hist_type_ductal  \\\n",
      "ehr                                                                   \n",
      "6849            1.0            0.0            0.0               1.0   \n",
      "268             1.0            0.0            0.0               0.0   \n",
      "1458            1.0            0.0            0.0               1.0   \n",
      "268             1.0            0.0            0.0               0.0   \n",
      "2013            1.0            0.0            0.0               1.0   \n",
      "...             ...            ...            ...               ...   \n",
      "191             1.0            0.0            0.0               1.0   \n",
      "6482            1.0            0.0            0.0               0.0   \n",
      "2564            1.0            0.0            0.0               1.0   \n",
      "2730            1.0            0.0            0.0               0.0   \n",
      "2376            1.0            0.0            0.0               0.0   \n",
      "\n",
      "      hist_type_lobular  hist_type_unknown  \n",
      "ehr                                         \n",
      "6849                0.0                0.0  \n",
      "268                 0.0                1.0  \n",
      "1458                0.0                0.0  \n",
      "268                 0.0                1.0  \n",
      "2013                0.0                0.0  \n",
      "...                 ...                ...  \n",
      "191                 0.0                0.0  \n",
      "6482                1.0                0.0  \n",
      "2564                0.0                0.0  \n",
      "2730                0.0                1.0  \n",
      "2376                1.0                0.0  \n",
      "\n",
      "[215 rows x 767 columns]\n"
     ]
    }
   ],
   "source": [
    "ohe = preprocessing.OneHotEncoder(sparse=False)\n",
    "df_cat_ohe = pd.DataFrame(ohe.fit_transform(df_cat), \n",
    "    columns=ohe.get_feature_names_out(df_cat.columns.tolist()), index=df_cat.index)\n",
    "\n",
    "print(df_cat_ohe)"
   ]
  }
 ],
 "metadata": {
  "kernelspec": {
   "display_name": "Python 3.9.13 64-bit",
   "language": "python",
   "name": "python3"
  },
  "language_info": {
   "codemirror_mode": {
    "name": "ipython",
    "version": 3
   },
   "file_extension": ".py",
   "mimetype": "text/x-python",
   "name": "python",
   "nbconvert_exporter": "python",
   "pygments_lexer": "ipython3",
   "version": "3.9.13"
  },
  "orig_nbformat": 4,
  "vscode": {
   "interpreter": {
    "hash": "88138175cbb6224e62c0ece1f7e9b6cb34c161666cf36be8b5c20091db9a983b"
   }
  }
 },
 "nbformat": 4,
 "nbformat_minor": 2
}
