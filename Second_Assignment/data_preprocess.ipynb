{
 "cells": [
  {
   "cell_type": "markdown",
   "metadata": {},
   "source": [
    "## Data Processes: Second Assignment (first part)\n",
    "\n",
    "### Grupo:\n",
    "Víctor Morcuende Castell, 47315589N\n",
    "\n",
    "Guillermo Nájera Lavid, 70845359T\n",
    "\n",
    "Javier Rocamora García, 20081979N\n",
    "\n",
    "Antonio Ruiz García, 06601574E"
   ]
  },
  {
   "cell_type": "code",
   "execution_count": 7,
   "metadata": {},
   "outputs": [],
   "source": [
    "import pandas as pd\n",
    "from sklearn import preprocessing\n",
    "from collections import defaultdict\n",
    "from sklearn.impute import SimpleImputer\n",
    "import math"
   ]
  },
  {
   "cell_type": "code",
   "execution_count": 8,
   "metadata": {},
   "outputs": [],
   "source": [
    "# Auxiliary functions\n",
    "\n",
    "def diagnoseDate_to_ageDiagnosed(birthDate, diagnoseDate):\n",
    "    age = pd.to_datetime(diagnoseDate).year-pd.to_datetime(birthDate).year\n",
    "    return age\n",
    "\n",
    "def deathDate_to_age(birthDate, deathDate):\n",
    "    deathAge = pd.to_datetime(deathDate).year-pd.to_datetime(birthDate).year\n",
    "    if math.isnan(deathAge):\n",
    "        deathAge = 0\n",
    "    return deathAge\n",
    "def deathDate_to_survivalTime(diagnosisDate, deathDate):\n",
    "    survivalTime = pd.to_datetime(deathDate).year-pd.to_datetime(diagnosisDate).year\n",
    "    if math.isnan(survivalTime) or survivalTime < 0:\n",
    "        survivalTime = -1\n",
    "    return survivalTime"
   ]
  },
  {
   "cell_type": "code",
   "execution_count": 9,
   "metadata": {},
   "outputs": [],
   "source": [
    "df = pd.read_excel(\"breast_cancer_data.xlsx\", index_col='ehr')\n",
    "\n",
    "# Deleting unused column and duplicated data\n",
    "df.pop('Unnamed: 0')\n",
    "df = df.drop_duplicates(keep='first')\n",
    "\n",
    "# Duplicating the DataFrame in order to obtain the numerical variables\n",
    "df_num = pd.DataFrame(data=df, columns=df.columns, index=df.index)\n",
    "df_num.pop('side')\n",
    "df_num.pop('neoadjuvant')\n",
    "df_num.pop('grade')\n",
    "df_num.pop('invasive')\n",
    "df_num.pop('er_positive')\n",
    "df_num.pop('pr_positive')\n",
    "df_num.pop('her2_positive')\n",
    "df_num.pop('hist_type')\n",
    "\n",
    "# Dividing the DataFrame into categorical and numerical variables\n",
    "num_cols = df_num.columns.tolist()\n",
    "df_cat = df.drop(num_cols, axis=1)"
   ]
  },
  {
   "cell_type": "markdown",
   "metadata": {},
   "source": [
    "We delete the NULL values by using the Simple Imputer"
   ]
  },
  {
   "cell_type": "code",
   "execution_count": 10,
   "metadata": {},
   "outputs": [],
   "source": [
    "df_cat.side = df_cat.side.apply(lambda x: 'unknown' if (x != 'left' and x != 'right') else x)\n",
    "df_cat.invasive = df_cat.invasive.apply(lambda x: 0 if x != 1 else x)\n",
    "\n",
    "# Imputation of nulls in categorical columns using Simple Imputer\n",
    "imp_cat = SimpleImputer(strategy='most_frequent')\n",
    "columns = df_cat.columns\n",
    "index = df_cat.index\n",
    "df_cat = pd.DataFrame(imp_cat.fit_transform(df_cat), columns=columns, index=index)\n",
    "\n",
    "# Transforming categorical values into numerical variables\n",
    "df_cat.neoadjuvant = df_cat.neoadjuvant.apply(lambda x: 0.0 if x == 'no' else 1.0)"
   ]
  },
  {
   "cell_type": "markdown",
   "metadata": {},
   "source": [
    "Now we are about to subsitute the categorical labels that are represented by strings with numerical values, in order to avoid working with Strings."
   ]
  },
  {
   "cell_type": "code",
   "execution_count": 11,
   "metadata": {},
   "outputs": [],
   "source": [
    "# Taking some variables out as they are already converted into numerical values\n",
    "df_aux = pd.DataFrame(data=df_cat, columns=df_cat.columns, index=df_cat.index)\n",
    "df_cat.pop('neoadjuvant')\n",
    "df_cat.pop('invasive')\n",
    "df_cat.pop('er_positive')\n",
    "df_cat.pop('pr_positive')\n",
    "df_cat.pop('her2_positive')\n",
    "num_cols = df_cat.columns.tolist()\n",
    "df_aux = df_aux.drop(num_cols, axis=1)\n",
    "\n",
    "# Using OneHotEncoder\n",
    "ohe = preprocessing.OneHotEncoder(sparse=False)\n",
    "df_cat_ohe = pd.DataFrame(ohe.fit_transform(df_cat), \n",
    "                          columns=ohe.get_feature_names_out(df_cat.columns.tolist()),\n",
    "                          index=df_cat.index)\n",
    "\n",
    "# Merge both DataFrames (df_cat_ohe and df_aux)\n",
    "df_cat_def = df_cat_ohe.join(other=df_aux)"
   ]
  },
  {
   "cell_type": "markdown",
   "metadata": {},
   "source": [
    "We change the value of the birth_date column to the age of each patient by applying the above declared function to the dataframe, this way we will be able to know the age of each patient at the time they were diagnosed"
   ]
  },
  {
   "cell_type": "code",
   "execution_count": 12,
   "metadata": {},
   "outputs": [
    {
     "name": "stdout",
     "output_type": "stream",
     "text": [
      "      ki67  recurrence_year  menarche_age  menopause_age  pregnancy  abort  \\\n",
      "ehr                                                                          \n",
      "6849   NaN              NaN          17.0           51.0        2.0    0.0   \n",
      "268    NaN              NaN          12.0            NaN        2.0    0.0   \n",
      "1458   0.0              NaN          11.0            NaN        2.0    0.0   \n",
      "2013  17.0              NaN           NaN            NaN        NaN    NaN   \n",
      "1350  44.0              NaN          14.0            NaN        3.0    NaN   \n",
      "...    ...              ...           ...            ...        ...    ...   \n",
      "191   10.0              NaN          13.0           53.0        2.0    0.0   \n",
      "6482   1.0              NaN          11.0           53.0        NaN    NaN   \n",
      "2564  20.0              NaN          11.0            NaN        0.0    0.0   \n",
      "2730  20.0              NaN           NaN           48.0        0.0    0.0   \n",
      "2376  10.0              NaN          14.0            NaN        2.0    0.0   \n",
      "\n",
      "      birth  caesarean  age_diagnosed  age_dead  survival_time  \n",
      "ehr                                                             \n",
      "6849      2        NaN             49         0             -1  \n",
      "268       2        NaN             65         0             -1  \n",
      "1458      2        0.0             64         0             -1  \n",
      "2013     -1        NaN             37         0             -1  \n",
      "1350      3        NaN             52        71             19  \n",
      "...     ...        ...            ...       ...            ...  \n",
      "191      -1        NaN             80         0             -1  \n",
      "6482     -1        NaN             51         0             -1  \n",
      "2564      0        NaN             28         0             -1  \n",
      "2730      0        NaN             81         0             -1  \n",
      "2376      2        NaN             47         0             -1  \n",
      "\n",
      "[212 rows x 11 columns]\n"
     ]
    }
   ],
   "source": [
    "# Age at which the patient was diagnosed\n",
    "ageDiagnosed = pd.Series(df_num.apply(lambda x: deathDate_to_age(x.birth_date, x.diagnosis_date), axis=1), name='age_diagnosed')\n",
    "\n",
    "# Age at which the patient died, if so\n",
    "ageDead = pd.Series(df_num.apply(lambda x: deathDate_to_age(x.birth_date, x.death_date), axis=1), name='age_dead')\n",
    "\n",
    "# Time of survival since diagnosis, 100 in case of full recovery\n",
    "survivalTime = pd.Series(df_num.apply(lambda x: deathDate_to_survivalTime(x.diagnosis_date, x.death_date), axis=1), name='survival_time')\n",
    "\n",
    "# Changing variables\n",
    "df_num.pop('birth_date')\n",
    "df_num.pop('diagnosis_date')\n",
    "df_num.pop('death_date')\n",
    "df_num = pd.merge(left=df_num, right=ageDiagnosed, on='ehr')\n",
    "df_num = pd.merge(left=df_num, right=ageDead, on='ehr')\n",
    "df_num = pd.merge(left=df_num, right=survivalTime, on='ehr')\n",
    "print(df_num)"
   ]
  },
  {
   "cell_type": "markdown",
   "metadata": {},
   "source": [
    "Now we are going to eliminate the labels that do not give relevant information but would increase the computational cost of our data treatments.\n",
    "e.g: Columns with too many different values, such as descriptions or names."
   ]
  }
 ],
 "metadata": {
  "kernelspec": {
   "display_name": "Python 3.9.0 64-bit",
   "language": "python",
   "name": "python3"
  },
  "language_info": {
   "codemirror_mode": {
    "name": "ipython",
    "version": 3
   },
   "file_extension": ".py",
   "mimetype": "text/x-python",
   "name": "python",
   "nbconvert_exporter": "python",
   "pygments_lexer": "ipython3",
   "version": "3.9.0"
  },
  "orig_nbformat": 4,
  "vscode": {
   "interpreter": {
    "hash": "7812ea015bdcee6f23a998adcdd2ef97c151c0c241b7b7070987d9313e41299d"
   }
  }
 },
 "nbformat": 4,
 "nbformat_minor": 2
}
