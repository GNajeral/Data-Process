{
 "cells": [
  {
   "cell_type": "markdown",
   "metadata": {},
   "source": [
    "## Data Processes: Second Assignment (first part)\n",
    "\n",
    "### Grupo:\n",
    "Víctor Morcuende Castell, 47315589N\n",
    "\n",
    "Guillermo Nájera Lavid, 70845359T\n",
    "\n",
    "Javier Rocamora García, 20081979N\n",
    "\n",
    "Antonio Ruiz García, 06601574E"
   ]
  },
  {
   "cell_type": "code",
   "execution_count": 61,
   "metadata": {},
   "outputs": [],
   "source": [
    "import pandas as pd\n",
    "from sklearn import preprocessing\n",
    "from collections import defaultdict\n",
    "from sklearn.impute import SimpleImputer\n",
    "import math"
   ]
  },
  {
   "cell_type": "code",
   "execution_count": 62,
   "metadata": {},
   "outputs": [],
   "source": [
    "# Auxiliary functions\n",
    "\n",
    "def diagnoseDate_to_ageDiagnosed(birthDate, diagnoseDate):\n",
    "    age = pd.to_datetime(diagnoseDate).year-pd.to_datetime(birthDate).year\n",
    "    return age\n",
    "\n",
    "def deathDate_to_age(birthDate, deathDate):\n",
    "    deathAge = pd.to_datetime(deathDate).year-pd.to_datetime(birthDate).year\n",
    "    if math.isnan(deathAge):\n",
    "        deathAge = 0\n",
    "    return deathAge\n",
    "def deathDate_to_survivalTime(diagnosisDate, deathDate):\n",
    "    survivalTime = pd.to_datetime(deathDate).year-pd.to_datetime(diagnosisDate).year\n",
    "    if math.isnan(survivalTime) or survivalTime < 0:\n",
    "        survivalTime = -1\n",
    "    return survivalTime"
   ]
  },
  {
   "cell_type": "code",
   "execution_count": 63,
   "metadata": {},
   "outputs": [],
   "source": [
    "df = pd.read_excel(\"breast_cancer_data.xlsx\", index_col='ehr')\n",
    "\n",
    "# Deleting unused column and duplicated data\n",
    "df.pop('Unnamed: 0')\n",
    "df = df.drop_duplicates(keep='first')\n",
    "\n",
    "# Duplicating the DataFrame in order to obtain the numerical variables\n",
    "df_num = pd.DataFrame(data=df, columns=df.columns, index=df.index)\n",
    "df_num.pop('side')\n",
    "df_num.pop('neoadjuvant')\n",
    "df_num.pop('grade')\n",
    "df_num.pop('invasive')\n",
    "df_num.pop('er_positive')\n",
    "df_num.pop('pr_positive')\n",
    "df_num.pop('her2_positive')\n",
    "df_num.pop('hist_type')\n",
    "\n",
    "# Dividing the DataFrame into categorical and numerical variables\n",
    "num_cols = df_num.columns.tolist()\n",
    "df_cat = df.drop(num_cols, axis=1)"
   ]
  },
  {
   "cell_type": "markdown",
   "metadata": {},
   "source": [
    "We delete the NULL values of the categorical variables by using the Simple Imputer"
   ]
  },
  {
   "cell_type": "code",
   "execution_count": 64,
   "metadata": {},
   "outputs": [],
   "source": [
    "df_cat.side = df_cat.side.apply(lambda x: 'unknown' if (x != 'left' and x != 'right') else x)\n",
    "df_cat.invasive = df_cat.invasive.apply(lambda x: 0 if x != 1 else x)\n",
    "\n",
    "# Imputation of nulls in categorical columns using Simple Imputer\n",
    "imp_cat = SimpleImputer(strategy='most_frequent')\n",
    "columns = df_cat.columns\n",
    "index = df_cat.index\n",
    "df_cat = pd.DataFrame(imp_cat.fit_transform(df_cat), columns=columns, index=index)\n",
    "\n",
    "# Transforming categorical values into numerical variables\n",
    "df_cat.neoadjuvant = df_cat.neoadjuvant.apply(lambda x: 0.0 if x == 'no' else 1.0)"
   ]
  },
  {
   "cell_type": "markdown",
   "metadata": {},
   "source": [
    "Now we are about to subsitute the categorical labels that are represented by strings with numerical values, in order to avoid working with Strings."
   ]
  },
  {
   "cell_type": "code",
   "execution_count": 65,
   "metadata": {},
   "outputs": [],
   "source": [
    "# Taking some variables out as they are already converted into numerical values\n",
    "df_aux = pd.DataFrame(data=df_cat, columns=df_cat.columns, index=df_cat.index)\n",
    "df_cat.pop('neoadjuvant')\n",
    "df_cat.pop('invasive')\n",
    "df_cat.pop('er_positive')\n",
    "df_cat.pop('pr_positive')\n",
    "df_cat.pop('her2_positive')\n",
    "num_cols = df_cat.columns.tolist()\n",
    "df_aux = df_aux.drop(num_cols, axis=1)\n",
    "\n",
    "# Using OneHotEncoder\n",
    "ohe = preprocessing.OneHotEncoder(sparse=False)\n",
    "df_cat_ohe = pd.DataFrame(ohe.fit_transform(df_cat), \n",
    "                          columns=ohe.get_feature_names_out(df_cat.columns.tolist()),\n",
    "                          index=df_cat.index)\n",
    "\n",
    "# Merge both DataFrames (df_cat_ohe and df_aux)\n",
    "df_cat_def = df_cat_ohe.join(other=df_aux)"
   ]
  },
  {
   "cell_type": "markdown",
   "metadata": {},
   "source": [
    "We change the value of the birth_date column to the age of each patient by applying the above declared function to the dataframe, this way we will be able to know the age of each patient at the time they were diagnosed"
   ]
  },
  {
   "cell_type": "code",
   "execution_count": 66,
   "metadata": {},
   "outputs": [],
   "source": [
    "# Age at which the patient was diagnosed\n",
    "ageDiagnosed = pd.Series(df_num.apply(lambda x: deathDate_to_age(x.birth_date, x.diagnosis_date), axis=1), name='age_diagnosed')\n",
    "\n",
    "# Age at which the patient died, if so\n",
    "ageDead = pd.Series(df_num.apply(lambda x: deathDate_to_age(x.birth_date, x.death_date), axis=1), name='age_dead')\n",
    "\n",
    "# Time of survival since diagnosis, 100 in case of full recovery\n",
    "survivalTime = pd.Series(df_num.apply(lambda x: deathDate_to_survivalTime(x.diagnosis_date, x.death_date), axis=1), name='survival_time')\n",
    "\n",
    "# Changing variables\n",
    "df_num.pop('birth_date')\n",
    "df_num.pop('diagnosis_date')\n",
    "df_num.pop('death_date')\n",
    "df_num = pd.merge(left=df_num, right=ageDiagnosed, on='ehr')\n",
    "df_num = pd.merge(left=df_num, right=ageDead, on='ehr')\n",
    "df_num = pd.merge(left=df_num, right=survivalTime, on='ehr')"
   ]
  },
  {
   "cell_type": "markdown",
   "metadata": {},
   "source": [
    "We delete the NULL values of the numerical variables by using the Simple Imputer"
   ]
  },
  {
   "cell_type": "code",
   "execution_count": 67,
   "metadata": {},
   "outputs": [
    {
     "name": "stdout",
     "output_type": "stream",
     "text": [
      "           ki67  recurrence_year  menarche_age  menopause_age  pregnancy  \\\n",
      "ehr                                                                        \n",
      "6849  19.582781      2016.307692     17.000000      51.000000    2.00000   \n",
      "268   19.582781      2016.307692     12.000000      48.714286    2.00000   \n",
      "1458   0.000000      2016.307692     11.000000      48.714286    2.00000   \n",
      "2013  17.000000      2016.307692     12.829268      48.714286    1.81746   \n",
      "1350  44.000000      2016.307692     14.000000      48.714286    3.00000   \n",
      "...         ...              ...           ...            ...        ...   \n",
      "191   10.000000      2016.307692     13.000000      53.000000    2.00000   \n",
      "6482   1.000000      2016.307692     11.000000      53.000000    1.81746   \n",
      "2564  20.000000      2016.307692     11.000000      48.714286    0.00000   \n",
      "2730  20.000000      2016.307692     12.829268      48.000000    0.00000   \n",
      "2376  10.000000      2016.307692     14.000000      48.714286    2.00000   \n",
      "\n",
      "         abort  birth  caesarean  age_diagnosed  age_dead  survival_time  \n",
      "ehr                                                                       \n",
      "6849  0.000000    2.0       0.75           49.0       0.0           -1.0  \n",
      "268   0.000000    2.0       0.75           65.0       0.0           -1.0  \n",
      "1458  0.000000    2.0       0.00           64.0       0.0           -1.0  \n",
      "2013  0.300885   -1.0       0.75           37.0       0.0           -1.0  \n",
      "1350  0.300885    3.0       0.75           52.0      71.0           19.0  \n",
      "...        ...    ...        ...            ...       ...            ...  \n",
      "191   0.000000   -1.0       0.75           80.0       0.0           -1.0  \n",
      "6482  0.300885   -1.0       0.75           51.0       0.0           -1.0  \n",
      "2564  0.000000    0.0       0.75           28.0       0.0           -1.0  \n",
      "2730  0.000000    0.0       0.75           81.0       0.0           -1.0  \n",
      "2376  0.000000    2.0       0.75           47.0       0.0           -1.0  \n",
      "\n",
      "[212 rows x 11 columns]\n"
     ]
    }
   ],
   "source": [
    "# Imputation of nulls in categorical columns using Simple Imputer\n",
    "imp_num = SimpleImputer(strategy='mean')\n",
    "columns = df_num.columns\n",
    "index = df_num.index\n",
    "df_num_def = pd.DataFrame(imp_num.fit_transform(df_num), columns=columns, index=index)\n",
    "print(df_num_def)"
   ]
  },
  {
   "cell_type": "markdown",
   "metadata": {},
   "source": [
    "Now that all variables are numerical and do not have missing values, we can merge the categorical and numerical variables"
   ]
  },
  {
   "cell_type": "code",
   "execution_count": 68,
   "metadata": {},
   "outputs": [
    {
     "name": "stdout",
     "output_type": "stream",
     "text": [
      "      side_left  side_right  side_unknown  grade_1.0  grade_2.0  grade_3.0  \\\n",
      "ehr                                                                          \n",
      "6849        0.0         0.0           1.0        1.0        0.0        0.0   \n",
      "268         0.0         0.0           1.0        0.0        1.0        0.0   \n",
      "1458        0.0         0.0           1.0        1.0        0.0        0.0   \n",
      "2013        0.0         0.0           1.0        0.0        0.0        1.0   \n",
      "1350        0.0         0.0           1.0        0.0        1.0        0.0   \n",
      "...         ...         ...           ...        ...        ...        ...   \n",
      "191         0.0         0.0           1.0        0.0        1.0        0.0   \n",
      "6482        0.0         0.0           1.0        0.0        1.0        0.0   \n",
      "2564        0.0         0.0           1.0        0.0        0.0        1.0   \n",
      "2730        0.0         0.0           1.0        0.0        1.0        0.0   \n",
      "2376        0.0         0.0           1.0        1.0        0.0        0.0   \n",
      "\n",
      "      hist_type_ductal  hist_type_lobular  hist_type_unknown  neoadjuvant  \\\n",
      "ehr                                                                         \n",
      "6849               1.0                0.0                0.0          0.0   \n",
      "268                0.0                0.0                1.0          0.0   \n",
      "1458               1.0                0.0                0.0          0.0   \n",
      "2013               1.0                0.0                0.0          1.0   \n",
      "1350               1.0                0.0                0.0          0.0   \n",
      "...                ...                ...                ...          ...   \n",
      "191                1.0                0.0                0.0          0.0   \n",
      "6482               0.0                1.0                0.0          0.0   \n",
      "2564               1.0                0.0                0.0          1.0   \n",
      "2730               0.0                0.0                1.0          1.0   \n",
      "2376               0.0                1.0                0.0          0.0   \n",
      "\n",
      "      ... recurrence_year menarche_age menopause_age pregnancy     abort  \\\n",
      "ehr   ...                                                                  \n",
      "6849  ...     2016.307692    17.000000     51.000000   2.00000  0.000000   \n",
      "268   ...     2016.307692    12.000000     48.714286   2.00000  0.000000   \n",
      "1458  ...     2016.307692    11.000000     48.714286   2.00000  0.000000   \n",
      "2013  ...     2016.307692    12.829268     48.714286   1.81746  0.300885   \n",
      "1350  ...     2016.307692    14.000000     48.714286   3.00000  0.300885   \n",
      "...   ...             ...          ...           ...       ...       ...   \n",
      "191   ...     2016.307692    13.000000     53.000000   2.00000  0.000000   \n",
      "6482  ...     2016.307692    11.000000     53.000000   1.81746  0.300885   \n",
      "2564  ...     2016.307692    11.000000     48.714286   0.00000  0.000000   \n",
      "2730  ...     2016.307692    12.829268     48.000000   0.00000  0.000000   \n",
      "2376  ...     2016.307692    14.000000     48.714286   2.00000  0.000000   \n",
      "\n",
      "      birth  caesarean  age_diagnosed  age_dead  survival_time  \n",
      "ehr                                                             \n",
      "6849    2.0       0.75           49.0       0.0           -1.0  \n",
      "268     2.0       0.75           65.0       0.0           -1.0  \n",
      "1458    2.0       0.00           64.0       0.0           -1.0  \n",
      "2013   -1.0       0.75           37.0       0.0           -1.0  \n",
      "1350    3.0       0.75           52.0      71.0           19.0  \n",
      "...     ...        ...            ...       ...            ...  \n",
      "191    -1.0       0.75           80.0       0.0           -1.0  \n",
      "6482   -1.0       0.75           51.0       0.0           -1.0  \n",
      "2564    0.0       0.75           28.0       0.0           -1.0  \n",
      "2730    0.0       0.75           81.0       0.0           -1.0  \n",
      "2376    2.0       0.75           47.0       0.0           -1.0  \n",
      "\n",
      "[212 rows x 25 columns]\n"
     ]
    }
   ],
   "source": [
    "df_preprocessed = pd.merge(left=df_cat_def, right=df_num_def, on='ehr')\n",
    "print(df_preprocessed)"
   ]
  },
  {
   "cell_type": "markdown",
   "metadata": {},
   "source": [
    "Now we are going to eliminate the labels that do not give relevant information but would increase the computational cost of our data treatments.\n",
    "e.g: Columns with too many different values, such as descriptions or names."
   ]
  }
 ],
 "metadata": {
  "kernelspec": {
   "display_name": "Python 3.9.0 64-bit",
   "language": "python",
   "name": "python3"
  },
  "language_info": {
   "codemirror_mode": {
    "name": "ipython",
    "version": 3
   },
   "file_extension": ".py",
   "mimetype": "text/x-python",
   "name": "python",
   "nbconvert_exporter": "python",
   "pygments_lexer": "ipython3",
   "version": "3.9.0"
  },
  "orig_nbformat": 4,
  "vscode": {
   "interpreter": {
    "hash": "7812ea015bdcee6f23a998adcdd2ef97c151c0c241b7b7070987d9313e41299d"
   }
  }
 },
 "nbformat": 4,
 "nbformat_minor": 2
}
